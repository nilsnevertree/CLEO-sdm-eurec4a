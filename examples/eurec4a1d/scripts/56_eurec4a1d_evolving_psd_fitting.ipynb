"""
----- CLEO -----
File: rainshaft1d.py
Project: rainshaft1d
Created Date: Friday 17th November 2023
Author: Clara Bayley (CB)
Additional Contributors:
-----
Last Modified: Wednesday 17th January 2024
Modified By: CB
-----
License: BSD 3-Clause "New" or "Revised" License
https://opensource.org/licenses/BSD-3-Clause
-----
Copyright (c) 2023 MPI-M, Clara Bayley
-----
File Description:
Script compiles and runs CLEO rain1D to create the
data and plots precipitation example given constant
1-D rainshaft thermodynamics read from a file
"""

# %%
import os
import sys
import numpy as np
import random
import yaml
from pathlib import Path
from io import StringIO

print(f"Enviroment: {sys.prefix}")

development = True

if development == False:
    path2CLEO = Path(sys.argv[1])
    path2build = Path(sys.argv[2])
    path2home = Path(sys.argv[3])
    configfile = Path(sys.argv[4])
    cloud_observation_filepath = Path(sys.argv[5])
    rawdirectory = Path(sys.argv[6])
else:
    path2CLEO = Path(__file__).resolve().parents[3]
    path2build = path2CLEO / "builds_eurec4a1d"
    path2home = path2CLEO.parents[1]
    configfile = path2CLEO / "examples/eurec4a1d/default_config/eurec4a1d_config_evolving.yaml"
    cloud_observation_filepath = path2CLEO / "examples/eurec4a1d/default_config/cloud_observation.yaml"
    rawdirectory = path2CLEO / "data/output/raw/netcdf1"




if "sdm_pysd_env312" not in sys.prefix:
    sys.path.append(str(path2CLEO))  # for imports from pySD package
    sys.path.append(
        str(path2CLEO / "examples/exampleplotting/")
    )  # for imports from example plotting package


rawdirectory.mkdir(exist_ok=True, parents=True)

# %%

import numpy as np
import xarray as xr
import matplotlib.pyplot as plt
from sdm_eurec4a.conversions import msd_from_psd_dataarray
import re
import tqdm

from pySD.sdmout_src import (
    pyzarr,
    pysetuptxt,
)
from pySD import editconfigfile
from pySD.gbxboundariesbinary_src import read_gbxboundaries as rgrid
from pySD.gbxboundariesbinary_src import create_gbxboundaries as cgrid
from pySD.initsuperdropsbinary_src import (
    crdgens,
    probdists,
    rgens,
    attrsgen,
)
from pySD.initsuperdropsbinary_src import create_initsuperdrops as csupers
from pySD.initsuperdropsbinary_src import read_initsuperdrops as rsupers
from pySD.thermobinary_src import thermogen
from pySD.thermobinary_src import create_thermodynamics as cthermo
from pySD.thermobinary_src import read_thermodynamics as rthermo

from importlib import reload
reload(rgens)
reload(attrsgen)

class Capturing(list):
    """
    Context manager for capturing stdout from print statements.
    https://stackoverflow.com/a/16571630/16372843
    """

    def __enter__(self):
        self._stdout = sys.stdout
        sys.stdout = self._stringio = StringIO()
        return self

    def __exit__(self, *args):
        self.extend(self._stringio.getvalue().splitlines())
        del self._stringio  # free up some memory
        sys.stdout = self._stdout


data_dir = Path('/work/mh1126/m301096/softlinks/sdm-eurec4a/data/model/netcdf-parameters_v1.0')


ds_parameters = xr.open_dataset(data_dir / "particle_size_distribution_parameters.nc")

ds_fitted_distributions = xr.open_dataset(data_dir / "fitted_distributions.nc")
ds_parameters

identification_type = "cluster"
cloud_id = np.random.choice(ds_parameters['cloud_id'])

# %%
### ---------------------------------------------------------------- ###
### ----------------------- INPUT PARAMETERS ----------------------- ###
### ---------------------------------------------------------------- ###
### --- essential paths and filenames --- ###
# path and filenames for creating initial SD conditions

constsfile = path2CLEO / "libs/cleoconstants.hpp"
binpath = path2build / "bin/"
sharepath = path2build / "share/"

# create the raw directory for the individual cloud observation.
# Here the output data will be stored.
# identification_type = cloud_observation_config["cloud"]["identification_type"]
# cloud_id = cloud_observation_config["cloud"]["cloud_id"]
rawdirectory_individual = rawdirectory / f"{identification_type}_{cloud_id}"
rawdirectory_individual.mkdir(exist_ok=True)


# CREATE A CONFIG FILE TO BE UPDATED
updated_configfile = dict()

# path and file names for output data
updated_configfile["outputdata"] = dict(
    setup_filename=str(rawdirectory_individual / "eurec4a1d_setup.txt"),
    stats_filename=str(rawdirectory_individual / "eurec4a1d_stats.txt"),
    # setup_filename = str(binpath / "eurec4a1d_setup.txt"),
    # stats_filename = str(binpath / "eurec4a1d_stats.txt"),
    zarrbasedir=str(rawdirectory_individual / "eurec4a1d_sol.zarr"),
    maxchunk=2500000,
)

setupfile = updated_configfile["outputdata"]["setup_filename"]
dataset = updated_configfile["outputdata"]["zarrbasedir"]


updated_configfile["coupled_dynamics"] = dict(
    type="fromfile",  # type of coupled dynamics to configure
    press=str(
        path2build / "share/eurec4a1d_dimlessthermo_press.dat"
    ),  # binary filename for pressure
    temp=str(
        path2build / "share/eurec4a1d_dimlessthermo_temp.dat"
    ),  # binary filename for temperature
    qvap=str(
        path2build / "share/eurec4a1d_dimlessthermo_qvap.dat"
    ),  # binary filename for vapour mixing ratio
    qcond=str(
        path2build / "share/eurec4a1d_dimlessthermo_qcond.dat"
    ),  # binary filename for liquid mixing ratio
    wvel=str(
        path2build / "share/eurec4a1d_dimlessthermo_wvel.dat"
    ),  # binary filename for vertical (coord3) velocity
    thermo=str(
        path2build / "share/eurec4a1d_dimlessthermo.dat"
    ),  # binary filename for thermodynamic profiles
)

updated_configfile["inputfiles"] = dict(
    constants_filename="../libs/cleoconstants.hpp",  # name of file for values of physical constants
    grid_filename=str(
        path2build / "share/eurec4a1d_ddimlessGBxboundaries.dat"
    ),  # binary filename for initialisation of GBxs / GbxMaps
)

updated_configfile["initsupers"] = dict(
    type="frombinary",
    initsupers_filename=str(path2build / "share/eurec4a1d_dimlessSDsinit.dat"),
    initnsupers=0,  # Modify later!!!!
)

gridfile = updated_configfile["inputfiles"]["grid_filename"]
initSDsfile = updated_configfile["initsupers"]["initsupers_filename"]
thermofile = updated_configfile["coupled_dynamics"]["thermo"]

updated_configfile

# %%
### ---------------------------------------------------------------- ###
### --- SETTING UP SUPERDROPLET INITIAL SETUP --- ###
### ---------------------------------------------------------------- ###

### --- settings for initial superdroplets --- ###
npergbx = 512  # number of superdroplets per gridbox

# initial superdroplet radii (and implicitly solute masses)
rspan = slice(10e-6, 2e-3)  # min and max range of radii to sample [m]


# numconc = np.sum(scalefacs)
### ---------------------------------------------------------------- ###
### ---------------------------------------------------------------- ###
# %%
### ----- write initial superdroplets binary ----- ###
# get total number of superdroplets

nsupers = npergbx * 1
total_nsupers = nsupers
updated_configfile["initsupers"]["initnsupers"] = total_nsupers
# update the config file

# create initial superdroplets coordinates
coord3gen = crdgens.SampleCoordGen(True)  # sample coord3 randomly
coord1gen = None  # do not generate superdroplet coord2s
coord2gen = None  # do not generate superdroplet coord2s

# create initial superdroplets attributes
radiigen = rgens.SampleLog10RadiiGen([rspan.start, rspan.stop])
radiigen = rgens.SampleLog10RadiiGenNils([rspan.start, rspan.stop])
# create uniform dry radii
monodryr = 1e-13  # all SDs have this same dryradius [m]
dryradiigen = rgens.MonoAttrGen(monodryr)


inputs = csupers.initSDsinputsdict(configfile, constsfile)

gbx_width = 100000

gridboxbounds = np.array([0, gbx_width, 0, gbx_width, 0, 20])
gridboxvolume = (
      (gridboxbounds[1] - gridboxbounds[1-1])
    * (gridboxbounds[3] - gridboxbounds[3-1])
    * (gridboxbounds[5] - gridboxbounds[5-1])
)

# %%
errors = []
cleo_nbc = []
cleo_lwc = []
cleo_psd = []
prob_psd = []

da_fitted_psd = (
    ds_fitted_distributions['weighted3_particle_size_distribution']
).sel(radius = rspan)
da_fitted_msd = msd_from_psd_dataarray(da_fitted_psd * ds_fitted_distributions['bin_width']) / ds_fitted_distributions['bin_width']
fitted_nbc = (da_fitted_psd * ds_fitted_distributions['bin_width']).sum('radius')
# fitted_lwc = (da_fitted_msd  * ds_fitted_distributions['bin_width']).sum('radius')

nsupers = da_fitted_psd['radius'].size

# pseudo_radii = da_fitted_psd['radius'].values #
pseudo_radii = np.geomspace(rspan.start, rspan.stop, nsupers)
nsupers = len(pseudo_radii)

for cloud_id in tqdm.tqdm(ds_parameters["cloud_id"].values) :
    # initial superdroplet attributes
    psd_params = ds_parameters.sel(cloud_id=cloud_id).to_dict()['data_vars']

    # settings for initial superdroplet multiplicies with ATR and Aerosol from Lohmann et. al 2016 Fig. 5.5
    geomeans = [psd_params["mu1"]['data'], psd_params["mu2"]['data']]
    geosigs = [psd_params["sigma1"]['data'], psd_params["sigma2"]['data']]
    scalefacs = [psd_params["scale_factor1"]['data'], psd_params["scale_factor2"]['data']]

    xiprobdist = probdists.LnNormal(geomeans, geosigs, scalefacs)

    numconc = fitted_nbc.sel(cloud_id=cloud_id).values

    psd = xr.DataArray(
        numconc * xiprobdist(pseudo_radii),
        coords=[("radius", pseudo_radii)]
    )

    prob_psd.append(psd)



    # write initial superdroplets binary
    initattrsgen = attrsgen.AttrsGeneratorNils(
        radiigen, dryradiigen, xiprobdist, coord3gen, coord1gen, coord2gen
    )

    try :
        radii, bin_width = radiigen(nsupers)
        multiplicities_width= initattrsgen.multiplicities(
            radii= radii,
            NUMCONC= numconc,
            samplevol= gridboxvolume,
            bin_width= bin_width,
        )
        multiplicities_nowidth= initattrsgen.multiplicities(
            radii= radii,
            NUMCONC= numconc,
            samplevol= gridboxvolume,
            bin_width= 1,
        )
        plt.plot(multiplicities_width - multiplicities_nowidth)
        multiplicities= multiplicities_width
        # multiplicities, radii, mass_solutes = initattrsgen.generate_attributes(
        #     nsupers = nsupers,
        #     RHO_SOL= inputs["RHO_SOL"],
        #     NUMCONC= numconc,
        #     gridboxbounds= gridboxbounds)

        errors.append(0)

        psd = xr.DataArray(
            multiplicities / gridboxvolume,
            coords=[("radius", pseudo_radii)])
        psd = psd.expand_dims(cloud_id = [cloud_id])
        cleo_psd.append(psd)

        # msd = msd_from_psd_dataarray(psd)

        # lwc = msd.sel(radius = rspan).sum().values
        # nbc = psd.sel(radius = rspan).sum().values
        # cleo_lwc.append(lwc)
        # cleo_nbc.append(nbc)
        # break
    except ValueError as ve :
        error_message = str(ve)
        match = re.search(r'ERROR, (\d+) out', error_message)
        if match:
            error_code = int(match.group(1))
            errors.append(error_code)
        #     cleo_lwc.append(np.nan)
        #     cleo_nbc.append(np.nan)
            print(f"Error code: {error_code}")
        else:
            raise ve
            print("No error code found in the message.")

da_errors = xr.DataArray(errors, coords=[ds_parameters["cloud_id"],])
da_cleo_psd = xr.concat(cleo_psd, dim = 'cloud_id')
# da_cleo_lwc = xr.DataArray(cleo_lwc, coords=[ds_parameters["cloud_id"],])
# da_cleo_nbc = xr.DataArray(cleo_nbc, coords=[ds_parameters["cloud_id"],])

da_prob_psd = xr.concat(prob_psd, dim = 'cloud_id')
da_prob_psd['cloud_id'] = ds_parameters["cloud_id"].values
#  da_cleo_mass = xr.concat(cleo_mass, dim = 'cloud_id')
# plt.plot(psd['radius'], psd)
# plt.plot(ds_fitted_distributions['radius'], ds_fitted_distributions['weighted3_particle_size_distribution'].sel(cloud_id=cloud_id))
# plt.xscale('log')
# plt.yscale('log')
# %%

def plot_11():
    x_min, x_max = plt.gca().get_xlim()
    y_min, y_max = plt.gca().get_ylim()
    g_min = min(x_min, y_min)
    g_max = max(x_max, y_max)
    g = (g_max, g_min)

    plt.plot(g, g, color="black", linestyle="--")

# %%
plt.figure()
plt.plot(
    da_cleo_psd['radius'],
    da_cleo_psd.T,
    color = 'blue',
    alpha = 0.2,
    );
plt.plot(
    da_fitted_psd['radius'],
    da_fitted_psd.sel(cloud_id = da_cleo_psd['cloud_id']).T  * ds_fitted_distributions['bin_width'],
    color = 'red',
    alpha = 0.2,
    );
plt.xscale('log')
plt.yscale('log')



plt.figure()
plt.scatter(
    (da_fitted_psd  * ds_fitted_distributions['bin_width']).sel(cloud_id = da_cleo_psd['cloud_id']).sum('radius'),
    da_cleo_psd.sum('radius'),
)
plot_11()
plt.figure()
plt.scatter(
    (da_fitted_msd  * ds_fitted_distributions['bin_width']).sel(cloud_id = da_cleo_psd['cloud_id']).sum('radius'),
    (msd_from_psd_dataarray(da_cleo_psd)).sum('radius'),
)
plot_11()

#%%
plt.figure()
plt.plot(
    (ds_fitted_distributions['bin_width'] * da_fitted_psd.sel(cloud_id = da_cleo_psd['cloud_id']).T),
    da_cleo_psd.T,
    marker = '.',
    color = 'k',
    alpha = 0.2,
    );
plt.xscale('log')
plt.yscale('log')
# plot_11()


# %%
plt.figure()
plt.scatter(
    da_cleo_psd.T,
    (da_fitted_psd  * ds_fitted_distributions['bin_width']).sel(cloud_id = da_cleo_psd['cloud_id']).T,
)
plot_11()
plt.figure()
plt.scatter(
    msd_from_psd_dataarray(da_cleo_psd).T,
    (da_fitted_msd  * ds_fitted_distributions['bin_width']).sel(cloud_id = da_cleo_psd['cloud_id']).T,
)
plot_11()

# %%
