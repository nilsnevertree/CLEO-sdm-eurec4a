{
 "cells": [
  {
   "cell_type": "markdown",
   "metadata": {},
   "source": [
    "# Zarr files to netCDF\n",
    "\n",
    "With this script, the zarr files from CLEOS output can be transformed into a single netcdf file which has the dimensions\n",
    "- time\n",
    "- sd_id (super droplet id)"
   ]
  },
  {
   "cell_type": "code",
   "execution_count": 7,
   "metadata": {},
   "outputs": [],
   "source": [
    "import sys\n",
    "import numpy as np\n",
    "import random\n",
    "from pathlib import Path\n",
    "import yaml\n",
    "import secrets\n",
    "import xarray as xr\n",
    "import matplotlib.pyplot as plt\n",
    "\n",
    "# from plotssrc import pltsds, pltmoms, animations\n",
    "from pySD.plotssrc import pltsds, pltmoms, animations\n",
    "from pySD.sdmout_src import *\n",
    "from pySD.sdmout_src import sdtracing\n",
    "from pySD.gbxboundariesbinary_src import read_gbxboundaries as rgrid\n",
    "from pySD.initsuperdropsbinary_src import *\n",
    "from pySD.initsuperdropsbinary_src import read_initsuperdrops as rsupers\n",
    "from pySD.thermobinary_src import read_thermodynamics as rthermo\n",
    "\n",
    "\n",
    "from sdm_eurec4a.visulization import set_custom_rcParams\n",
    "\n",
    "set_custom_rcParams()\n",
    "\n",
    "path2CLEO = Path(\"/home/m/m301096/CLEO\")\n",
    "path2sdm_eurec4a = Path(\"/home/m/m301096/repositories/sdm-eurec4a\")\n",
    "sys.path.append(path2CLEO)  # for imports from pySD package\n",
    "# sys.path.append(path2CLEO / \"examples/exampleplotting\") # for imports from example plotting package\n",
    "\n",
    "# use paths to files\n",
    "path2build = path2CLEO / \"build\"\n",
    "configfile = path2CLEO / \"eurec4a/experiment_02/src/config/rain1d_config.txt\"\n",
    "yaml_config_file = path2sdm_eurec4a / \"data/model/input/example_input_18.yaml\"\n"
   ]
  },
  {
   "cell_type": "code",
   "execution_count": 8,
   "metadata": {},
   "outputs": [],
   "source": [
    "with open(yaml_config_file, 'r') as f:\n",
    "    config_yaml = yaml.safe_load(f)\n",
    "\n",
    "\n",
    "### ----------------------- INPUT PARAMETERS ----------------------- ###\n",
    "### --- essential paths and filenames --- ###\n",
    "# path and filenames for creating initial SD conditions\n",
    "constsfile    = path2CLEO / \"libs/cleoconstants.hpp\"\n",
    "# path and file names for plotting results\n",
    "setupfile     = path2CLEO / \"data/output/raw/rain1d_setup.txt\"\n",
    "dataset       = path2CLEO / \"data/output/raw/rain1d_sol.zarr\"\n",
    "\n",
    "# get cloud imformation\n",
    "cloud_id = config_yaml['cloud']['cloud_id']\n",
    "identification_type = config_yaml['cloud']['identification_type']\n",
    "savefigpath = path2CLEO / \"results/experiment_02\" / f\"{identification_type}_{cloud_id}\" # directory for saving figures\n",
    "savefigpath.mkdir(exist_ok=True, parents=True)"
   ]
  },
  {
   "cell_type": "markdown",
   "metadata": {},
   "source": [
    "Get the config, constants and also an initial superdroplet dataset"
   ]
  },
  {
   "cell_type": "code",
   "execution_count": 11,
   "metadata": {},
   "outputs": [
    {
     "name": "stdout",
     "output_type": "stream",
     "text": [
      "---- Superdrop Properties -----\n",
      "RHO_L = 998.203 Kg/m^3\n",
      "RHO_SOL = 2016.5 Kg/m^3\n",
      "MR_SOL = 0.05844277 Kg/mol\n",
      "IONIC = 2.0\n",
      "-------------------------------\n",
      "supers dataset:  /home/m/m301096/CLEO/data/output/raw/rain1d_sol.zarr\n"
     ]
    }
   ],
   "source": [
    "# read in constants and intial setup from setup .txt file\n",
    "config = pysetuptxt.get_config(setupfile, nattrs=3, isprint=False)\n",
    "consts = pysetuptxt.get_consts(setupfile, isprint=False)\n",
    "\n",
    "# Create a first simple dataset to have the coordinates for later netcdf creation\n",
    "sddata = pyzarr.get_supers(str(dataset), consts)\n",
    "simple_ds = xr.open_dataset(dataset, engine=\"zarr\",\n",
    "                                consolidated=False);"
   ]
  },
  {
   "cell_type": "markdown",
   "metadata": {},
   "source": [
    "## Create a xarray dataset from the zarr file\n",
    "\n",
    "\n",
    "For this, the ``sdtracing.attribute_for_superdroplets_sample`` function will be used for a subset of superdroplet ids.\n",
    "Using a size of 100 makes sense, and is not too slow.\n",
    "\n",
    "The subdatasets will be stored in a temporary folder."
   ]
  },
  {
   "cell_type": "markdown",
   "metadata": {},
   "source": [
    "To do so, we create a list of temporaray filenames"
   ]
  },
  {
   "cell_type": "code",
   "execution_count": 15,
   "metadata": {},
   "outputs": [],
   "source": [
    "path2dataoutput = path2CLEO / \"data/output\"\n",
    "TEMPORARY_DIR = path2dataoutput / \"temporary\"\n",
    "OUTPUT_DIR = path2dataoutput / \"processed/\" f\"{identification_type}_{cloud_id}\"\n",
    "OUTPUT_DIR.mkdir(exist_ok=True, parents=True)"
   ]
  },
  {
   "cell_type": "code",
   "execution_count": 33,
   "metadata": {},
   "outputs": [
    {
     "name": "stdout",
     "output_type": "stream",
     "text": [
      "/home/m/m301096/CLEO/data/output/temporary/0xd5ca8.nc\n"
     ]
    }
   ],
   "source": [
    "all_ids = np.arange(config['totnsupers'], dtype = int)\n",
    "len(all_ids)\n",
    "# all_ids_reshaped = all_ids.reshape(100)\n",
    "# use each gridcell on its own\n",
    "n = config['totnsupers'] / 256\n",
    "all_ids = all_ids.reshape(int(n), -1)\n",
    "# temporary file names based on seed\n",
    "\n",
    "seed = 2\n",
    "np.random.seed(seed)\n",
    "hashs = np.random.choice(int(1e6), size = all_ids.shape[0])\n",
    "str_func = np.vectorize(lambda x : TEMPORARY_DIR / f\"{hex(x)}.nc\")\n",
    "temp_filepaths = str_func(hashs)\n",
    "\n",
    "assert len(temp_filepaths) == all_ids.shape[0]\n",
    "print(temp_filepaths[0])"
   ]
  },
  {
   "cell_type": "code",
   "execution_count": 34,
   "metadata": {},
   "outputs": [
    {
     "name": "stdout",
     "output_type": "stream",
     "text": [
      "Processing 0-255 to /home/m/m301096/CLEO/data/output/temporary/0xd5ca8.nc\n"
     ]
    },
    {
     "name": "stdout",
     "output_type": "stream",
     "text": [
      "Processing 256-511 to /home/m/m301096/CLEO/data/output/temporary/0x18a0f.nc\n"
     ]
    }
   ],
   "source": [
    "import tqdm\n",
    "attributes = [\"xi\", \"radius\", \"coord3\", \"sdgbxindex\", \"msol\"]\n",
    "\n",
    "for ids, temp_filepath in tqdm(zip(all_ids[0:2], temp_filepaths[0:2])):\n",
    "    print(f\"Processing {ids.min()}-{ids.max()} to \\t{temp_filepath}\")\n",
    "    ids = list(ids)\n",
    "    list_dataarrays = []\n",
    "    for attr in attributes:\n",
    "        data = sdtracing.attribute_for_superdroplets_sample(\n",
    "            sddata,\n",
    "            attr,\n",
    "            ids=ids,\n",
    "        )\n",
    "        da = xr.DataArray(\n",
    "            data=data,\n",
    "            dims=[\"time\", \"sd_id\"],\n",
    "            coords={\"time\": simple_ds.time, \"sd_id\": ids}\n",
    "        )\n",
    "        da.name = attr\n",
    "        list_dataarrays.append(da)\n",
    "\n",
    "    ds = xr.merge(list_dataarrays)\n",
    "    ds.to_netcdf(temp_filepath)\n",
    "# ds = xr.concate(list_dataarrays)\n",
    "# display(ds)"
   ]
  },
  {
   "cell_type": "markdown",
   "metadata": {},
   "source": [
    "## Combine datasets and store in folder"
   ]
  },
  {
   "cell_type": "code",
   "execution_count": 46,
   "metadata": {},
   "outputs": [],
   "source": [
    "full_dataset = xr.open_mfdataset(temp_filepaths[0:2], parallel = True)\n",
    "full_dataset.to_netcdf(OUTPUT_DIR / \"full_dataset.nc\")\n"
   ]
  }
 ],
 "metadata": {
  "kernelspec": {
   "display_name": "sdm_pysd_env312",
   "language": "python",
   "name": "python3"
  },
  "language_info": {
   "codemirror_mode": {
    "name": "ipython",
    "version": 3
   },
   "file_extension": ".py",
   "mimetype": "text/x-python",
   "name": "python",
   "nbconvert_exporter": "python",
   "pygments_lexer": "ipython3",
   "version": "3.12.1"
  }
 },
 "nbformat": 4,
 "nbformat_minor": 2
}
